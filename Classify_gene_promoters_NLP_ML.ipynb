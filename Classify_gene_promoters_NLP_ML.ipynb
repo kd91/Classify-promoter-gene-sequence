{
 "cells": [
  {
   "cell_type": "code",
   "execution_count": 44,
   "metadata": {
    "colab": {},
    "colab_type": "code",
    "executionInfo": {
     "elapsed": 655,
     "status": "ok",
     "timestamp": 1595638751801,
     "user": {
      "displayName": "Khushbu Desai",
      "photoUrl": "",
      "userId": "03086767916646334082"
     },
     "user_tz": 420
    },
    "id": "KoLOAeChC_aR"
   },
   "outputs": [],
   "source": [
    "import pandas as pd\n",
    "import numpy as np\n",
    "from tensorflow.keras.utils import to_categorical\n",
    "from sklearn.feature_extraction.text import CountVectorizer\n",
    "from sklearn.preprocessing import OrdinalEncoder\n",
    "from sklearn.model_selection import train_test_split\n",
    "from sklearn.naive_bayes import MultinomialNB\n",
    "from sklearn.tree import DecisionTreeClassifier\n",
    "from sklearn.ensemble import RandomForestClassifier\n",
    "from sklearn.metrics import accuracy_score,f1_score,recall_score,precision_score,confusion_matrix,classification_report,roc_curve,roc_auc_score\n",
    "import matplotlib.pyplot as plt\n",
    "%matplotlib inline\n",
    "import seaborn as sns"
   ]
  },
  {
   "cell_type": "markdown",
   "metadata": {
    "colab_type": "text",
    "id": "BjKagZQ8C_aa"
   },
   "source": [
    "Attribute Information:\n",
    "\n",
    "1. One of {+/-}, indicating the class (\"+\" = promoter).\n",
    "2. The instance name (non-promoters named by position in the 1500-long nucleotide sequence provided by T. Record).\n",
    "3-59. The remaining 57 fields are the sequence, starting at position -50 (p-50) and ending at position +7 (p7). Each of these fields is filled by one of {a, g, t, c}"
   ]
  },
  {
   "cell_type": "code",
   "execution_count": 45,
   "metadata": {
    "colab": {
     "base_uri": "https://localhost:8080/",
     "height": 71
    },
    "colab_type": "code",
    "executionInfo": {
     "elapsed": 1175,
     "status": "ok",
     "timestamp": 1595638752332,
     "user": {
      "displayName": "Khushbu Desai",
      "photoUrl": "",
      "userId": "03086767916646334082"
     },
     "user_tz": 420
    },
    "id": "99wfYXRkC_aX",
    "outputId": "382c59e8-e2a6-4ccc-8db1-535c63fa3f93"
   },
   "outputs": [
    {
     "name": "stderr",
     "output_type": "stream",
     "text": [
      "/usr/local/lib/python3.7/dist-packages/ipykernel_launcher.py:6: ParserWarning: Falling back to the 'python' engine because the 'c' engine does not support regex separators (separators > 1 char and different from '\\s+' are interpreted as regex); you can avoid this warning by specifying engine='python'.\n",
      "  \n"
     ]
    }
   ],
   "source": [
    "# Molecular Biology (Promoter Gene Sequences) Data Set from UCI\n",
    "#  E. Coli promoter gene sequences (DNA) with partial domain theory\n",
    "\n",
    "url = \"https://archive.ics.uci.edu/ml/machine-learning-databases/molecular-biology/promoter-gene-sequences/promoters.data\"\n",
    "\n",
    "df = pd.read_csv(url, sep=\",|\\t\",names=['class', 'instance_name', 'col_1', 'col_2', 'gene_sequence'])"
   ]
  },
  {
   "cell_type": "code",
   "execution_count": 46,
   "metadata": {
    "colab": {
     "base_uri": "https://localhost:8080/",
     "height": 597
    },
    "colab_type": "code",
    "executionInfo": {
     "elapsed": 1168,
     "status": "ok",
     "timestamp": 1595638752333,
     "user": {
      "displayName": "Khushbu Desai",
      "photoUrl": "",
      "userId": "03086767916646334082"
     },
     "user_tz": 420
    },
    "id": "Wz7oEHZsC_ab",
    "outputId": "921a153e-03c3-4163-bb4b-00523babe792"
   },
   "outputs": [
    {
     "data": {
      "text/plain": [
       "(106, 5)"
      ]
     },
     "metadata": {},
     "output_type": "display_data"
    },
    {
     "name": "stdout",
     "output_type": "stream",
     "text": [
      "<class 'pandas.core.frame.DataFrame'>\n",
      "RangeIndex: 106 entries, 0 to 105\n",
      "Data columns (total 5 columns):\n",
      " #   Column         Non-Null Count  Dtype  \n",
      "---  ------         --------------  -----  \n",
      " 0   class          106 non-null    object \n",
      " 1   instance_name  106 non-null    object \n",
      " 2   col_1          0 non-null      float64\n",
      " 3   col_2          25 non-null     object \n",
      " 4   gene_sequence  81 non-null     object \n",
      "dtypes: float64(1), object(4)\n",
      "memory usage: 4.3+ KB\n"
     ]
    },
    {
     "data": {
      "text/plain": [
       "None"
      ]
     },
     "metadata": {},
     "output_type": "display_data"
    },
    {
     "data": {
      "text/html": [
       "<div>\n",
       "<style scoped>\n",
       "    .dataframe tbody tr th:only-of-type {\n",
       "        vertical-align: middle;\n",
       "    }\n",
       "\n",
       "    .dataframe tbody tr th {\n",
       "        vertical-align: top;\n",
       "    }\n",
       "\n",
       "    .dataframe thead th {\n",
       "        text-align: right;\n",
       "    }\n",
       "</style>\n",
       "<table border=\"1\" class=\"dataframe\">\n",
       "  <thead>\n",
       "    <tr style=\"text-align: right;\">\n",
       "      <th></th>\n",
       "      <th>class</th>\n",
       "      <th>instance_name</th>\n",
       "      <th>col_1</th>\n",
       "      <th>col_2</th>\n",
       "      <th>gene_sequence</th>\n",
       "    </tr>\n",
       "  </thead>\n",
       "  <tbody>\n",
       "    <tr>\n",
       "      <th>0</th>\n",
       "      <td>+</td>\n",
       "      <td>S10</td>\n",
       "      <td>NaN</td>\n",
       "      <td>NaN</td>\n",
       "      <td>tactagcaatacgcttgcgttcggtggttaagtatgtataatgcgc...</td>\n",
       "    </tr>\n",
       "    <tr>\n",
       "      <th>1</th>\n",
       "      <td>+</td>\n",
       "      <td>AMPC</td>\n",
       "      <td>NaN</td>\n",
       "      <td>NaN</td>\n",
       "      <td>tgctatcctgacagttgtcacgctgattggtgtcgttacaatctaa...</td>\n",
       "    </tr>\n",
       "    <tr>\n",
       "      <th>2</th>\n",
       "      <td>+</td>\n",
       "      <td>AROH</td>\n",
       "      <td>NaN</td>\n",
       "      <td>NaN</td>\n",
       "      <td>gtactagagaactagtgcattagcttatttttttgttatcatgcta...</td>\n",
       "    </tr>\n",
       "    <tr>\n",
       "      <th>3</th>\n",
       "      <td>+</td>\n",
       "      <td>DEOP2</td>\n",
       "      <td>NaN</td>\n",
       "      <td>aattgtgatgtgtatcgaagtgtgttgcggagtagatgttagaata...</td>\n",
       "      <td>None</td>\n",
       "    </tr>\n",
       "    <tr>\n",
       "      <th>4</th>\n",
       "      <td>+</td>\n",
       "      <td>LEU1_TRNA</td>\n",
       "      <td>NaN</td>\n",
       "      <td>tcgataattaactattgacgaaaagctgaaaaccactagaatgcgc...</td>\n",
       "      <td>None</td>\n",
       "    </tr>\n",
       "    <tr>\n",
       "      <th>5</th>\n",
       "      <td>+</td>\n",
       "      <td>MALEFG</td>\n",
       "      <td>NaN</td>\n",
       "      <td>aggggcaaggaggatggaaagaggttgccgtataaagaaactagag...</td>\n",
       "      <td>None</td>\n",
       "    </tr>\n",
       "    <tr>\n",
       "      <th>6</th>\n",
       "      <td>+</td>\n",
       "      <td>MALK</td>\n",
       "      <td>NaN</td>\n",
       "      <td>NaN</td>\n",
       "      <td>cagggggtggaggatttaagccatctcctgatgacgcatagtcagc...</td>\n",
       "    </tr>\n",
       "    <tr>\n",
       "      <th>7</th>\n",
       "      <td>+</td>\n",
       "      <td>RECA</td>\n",
       "      <td>NaN</td>\n",
       "      <td>NaN</td>\n",
       "      <td>tttctacaaaacacttgatactgtatgagcatacagtataattgct...</td>\n",
       "    </tr>\n",
       "    <tr>\n",
       "      <th>8</th>\n",
       "      <td>+</td>\n",
       "      <td>RPOB</td>\n",
       "      <td>NaN</td>\n",
       "      <td>NaN</td>\n",
       "      <td>cgacttaatatactgcgacaggacgtccgttctgtgtaaatcgcaa...</td>\n",
       "    </tr>\n",
       "    <tr>\n",
       "      <th>9</th>\n",
       "      <td>+</td>\n",
       "      <td>RRNAB_P1</td>\n",
       "      <td>NaN</td>\n",
       "      <td>ttttaaatttcctcttgtcaggccggaataactccctataatgcgc...</td>\n",
       "      <td>None</td>\n",
       "    </tr>\n",
       "  </tbody>\n",
       "</table>\n",
       "</div>"
      ],
      "text/plain": [
       "  class instance_name  col_1  \\\n",
       "0     +           S10    NaN   \n",
       "1     +          AMPC    NaN   \n",
       "2     +          AROH    NaN   \n",
       "3     +         DEOP2    NaN   \n",
       "4     +     LEU1_TRNA    NaN   \n",
       "5     +        MALEFG    NaN   \n",
       "6     +          MALK    NaN   \n",
       "7     +          RECA    NaN   \n",
       "8     +          RPOB    NaN   \n",
       "9     +      RRNAB_P1    NaN   \n",
       "\n",
       "                                               col_2  \\\n",
       "0                                                NaN   \n",
       "1                                                NaN   \n",
       "2                                                NaN   \n",
       "3  aattgtgatgtgtatcgaagtgtgttgcggagtagatgttagaata...   \n",
       "4  tcgataattaactattgacgaaaagctgaaaaccactagaatgcgc...   \n",
       "5  aggggcaaggaggatggaaagaggttgccgtataaagaaactagag...   \n",
       "6                                                NaN   \n",
       "7                                                NaN   \n",
       "8                                                NaN   \n",
       "9  ttttaaatttcctcttgtcaggccggaataactccctataatgcgc...   \n",
       "\n",
       "                                       gene_sequence  \n",
       "0  tactagcaatacgcttgcgttcggtggttaagtatgtataatgcgc...  \n",
       "1  tgctatcctgacagttgtcacgctgattggtgtcgttacaatctaa...  \n",
       "2  gtactagagaactagtgcattagcttatttttttgttatcatgcta...  \n",
       "3                                               None  \n",
       "4                                               None  \n",
       "5                                               None  \n",
       "6  cagggggtggaggatttaagccatctcctgatgacgcatagtcagc...  \n",
       "7  tttctacaaaacacttgatactgtatgagcatacagtataattgct...  \n",
       "8  cgacttaatatactgcgacaggacgtccgttctgtgtaaatcgcaa...  \n",
       "9                                               None  "
      ]
     },
     "execution_count": 46,
     "metadata": {},
     "output_type": "execute_result"
    }
   ],
   "source": [
    "display(df.shape)\n",
    "display(df.info())\n",
    "df.head(10)"
   ]
  },
  {
   "cell_type": "code",
   "execution_count": 47,
   "metadata": {
    "colab": {
     "base_uri": "https://localhost:8080/",
     "height": 170
    },
    "colab_type": "code",
    "executionInfo": {
     "elapsed": 1302,
     "status": "ok",
     "timestamp": 1595638752475,
     "user": {
      "displayName": "Khushbu Desai",
      "photoUrl": "",
      "userId": "03086767916646334082"
     },
     "user_tz": 420
    },
    "id": "EgN5k1JVC_ad",
    "outputId": "b11efec2-b57f-4aab-c576-0d82bf1c2add"
   },
   "outputs": [
    {
     "data": {
      "text/plain": [
       "class            False\n",
       "instance_name    False\n",
       "col_1             True\n",
       "col_2             True\n",
       "gene_sequence     True\n",
       "dtype: bool"
      ]
     },
     "metadata": {},
     "output_type": "display_data"
    },
    {
     "data": {
      "text/plain": [
       "-    53\n",
       "+    53\n",
       "Name: class, dtype: int64"
      ]
     },
     "execution_count": 47,
     "metadata": {},
     "output_type": "execute_result"
    }
   ],
   "source": [
    "display(df.isna().any())\n",
    "df['class'].value_counts()"
   ]
  },
  {
   "cell_type": "code",
   "execution_count": 48,
   "metadata": {
    "colab": {
     "base_uri": "https://localhost:8080/",
     "height": 359
    },
    "colab_type": "code",
    "executionInfo": {
     "elapsed": 1280,
     "status": "ok",
     "timestamp": 1595638752476,
     "user": {
      "displayName": "Khushbu Desai",
      "photoUrl": "",
      "userId": "03086767916646334082"
     },
     "user_tz": 420
    },
    "id": "Ivw8YMk2C_ak",
    "outputId": "c22650e1-7241-49e3-886f-2316a381e91f",
    "scrolled": true
   },
   "outputs": [
    {
     "data": {
      "text/html": [
       "<div>\n",
       "<style scoped>\n",
       "    .dataframe tbody tr th:only-of-type {\n",
       "        vertical-align: middle;\n",
       "    }\n",
       "\n",
       "    .dataframe tbody tr th {\n",
       "        vertical-align: top;\n",
       "    }\n",
       "\n",
       "    .dataframe thead th {\n",
       "        text-align: right;\n",
       "    }\n",
       "</style>\n",
       "<table border=\"1\" class=\"dataframe\">\n",
       "  <thead>\n",
       "    <tr style=\"text-align: right;\">\n",
       "      <th></th>\n",
       "      <th>class</th>\n",
       "      <th>instance_name</th>\n",
       "      <th>gene_sequence</th>\n",
       "    </tr>\n",
       "  </thead>\n",
       "  <tbody>\n",
       "    <tr>\n",
       "      <th>0</th>\n",
       "      <td>+</td>\n",
       "      <td>S10</td>\n",
       "      <td>tactagcaatacgcttgcgttcggtggttaagtatgtataatgcgc...</td>\n",
       "    </tr>\n",
       "    <tr>\n",
       "      <th>1</th>\n",
       "      <td>+</td>\n",
       "      <td>AMPC</td>\n",
       "      <td>tgctatcctgacagttgtcacgctgattggtgtcgttacaatctaa...</td>\n",
       "    </tr>\n",
       "    <tr>\n",
       "      <th>2</th>\n",
       "      <td>+</td>\n",
       "      <td>AROH</td>\n",
       "      <td>gtactagagaactagtgcattagcttatttttttgttatcatgcta...</td>\n",
       "    </tr>\n",
       "    <tr>\n",
       "      <th>3</th>\n",
       "      <td>+</td>\n",
       "      <td>DEOP2</td>\n",
       "      <td>aattgtgatgtgtatcgaagtgtgttgcggagtagatgttagaata...</td>\n",
       "    </tr>\n",
       "    <tr>\n",
       "      <th>4</th>\n",
       "      <td>+</td>\n",
       "      <td>LEU1_TRNA</td>\n",
       "      <td>tcgataattaactattgacgaaaagctgaaaaccactagaatgcgc...</td>\n",
       "    </tr>\n",
       "    <tr>\n",
       "      <th>5</th>\n",
       "      <td>+</td>\n",
       "      <td>MALEFG</td>\n",
       "      <td>aggggcaaggaggatggaaagaggttgccgtataaagaaactagag...</td>\n",
       "    </tr>\n",
       "    <tr>\n",
       "      <th>6</th>\n",
       "      <td>+</td>\n",
       "      <td>MALK</td>\n",
       "      <td>cagggggtggaggatttaagccatctcctgatgacgcatagtcagc...</td>\n",
       "    </tr>\n",
       "    <tr>\n",
       "      <th>7</th>\n",
       "      <td>+</td>\n",
       "      <td>RECA</td>\n",
       "      <td>tttctacaaaacacttgatactgtatgagcatacagtataattgct...</td>\n",
       "    </tr>\n",
       "    <tr>\n",
       "      <th>8</th>\n",
       "      <td>+</td>\n",
       "      <td>RPOB</td>\n",
       "      <td>cgacttaatatactgcgacaggacgtccgttctgtgtaaatcgcaa...</td>\n",
       "    </tr>\n",
       "    <tr>\n",
       "      <th>9</th>\n",
       "      <td>+</td>\n",
       "      <td>RRNAB_P1</td>\n",
       "      <td>ttttaaatttcctcttgtcaggccggaataactccctataatgcgc...</td>\n",
       "    </tr>\n",
       "  </tbody>\n",
       "</table>\n",
       "</div>"
      ],
      "text/plain": [
       "  class instance_name                                      gene_sequence\n",
       "0     +           S10  tactagcaatacgcttgcgttcggtggttaagtatgtataatgcgc...\n",
       "1     +          AMPC  tgctatcctgacagttgtcacgctgattggtgtcgttacaatctaa...\n",
       "2     +          AROH  gtactagagaactagtgcattagcttatttttttgttatcatgcta...\n",
       "3     +         DEOP2  aattgtgatgtgtatcgaagtgtgttgcggagtagatgttagaata...\n",
       "4     +     LEU1_TRNA  tcgataattaactattgacgaaaagctgaaaaccactagaatgcgc...\n",
       "5     +        MALEFG  aggggcaaggaggatggaaagaggttgccgtataaagaaactagag...\n",
       "6     +          MALK  cagggggtggaggatttaagccatctcctgatgacgcatagtcagc...\n",
       "7     +          RECA  tttctacaaaacacttgatactgtatgagcatacagtataattgct...\n",
       "8     +          RPOB  cgacttaatatactgcgacaggacgtccgttctgtgtaaatcgcaa...\n",
       "9     +      RRNAB_P1  ttttaaatttcctcttgtcaggccggaataactccctataatgcgc..."
      ]
     },
     "execution_count": 48,
     "metadata": {},
     "output_type": "execute_result"
    }
   ],
   "source": [
    "df.drop('col_1', axis=1, inplace=True)\n",
    "df['gene_sequence'] = df['gene_sequence'].combine_first(df['col_2'])\n",
    "df.drop('col_2', axis=1, inplace=True)\n",
    "df.head(10)"
   ]
  },
  {
   "cell_type": "code",
   "execution_count": 49,
   "metadata": {
    "colab": {
     "base_uri": "https://localhost:8080/",
     "height": 68
    },
    "colab_type": "code",
    "executionInfo": {
     "elapsed": 1272,
     "status": "ok",
     "timestamp": 1595638752476,
     "user": {
      "displayName": "Khushbu Desai",
      "photoUrl": "",
      "userId": "03086767916646334082"
     },
     "user_tz": 420
    },
    "id": "xYBEXrBXC_aq",
    "outputId": "7a85e7b3-ad28-48e0-b830-480db21e5ab4"
   },
   "outputs": [
    {
     "data": {
      "text/plain": [
       "1    53\n",
       "0    53\n",
       "Name: class, dtype: int64"
      ]
     },
     "execution_count": 49,
     "metadata": {},
     "output_type": "execute_result"
    }
   ],
   "source": [
    "df = df.replace(to_replace='+', value=1)  #promoter\n",
    "df = df.replace(to_replace='-', value=0)  #non-promoter\n",
    "df['class'].value_counts()"
   ]
  },
  {
   "cell_type": "code",
   "execution_count": 50,
   "metadata": {
    "colab": {
     "base_uri": "https://localhost:8080/",
     "height": 221
    },
    "colab_type": "code",
    "executionInfo": {
     "elapsed": 1455,
     "status": "ok",
     "timestamp": 1595638752667,
     "user": {
      "displayName": "Khushbu Desai",
      "photoUrl": "",
      "userId": "03086767916646334082"
     },
     "user_tz": 420
    },
    "id": "aEWdE-BpC_ar",
    "outputId": "7cdb7e04-0117-44df-e35e-4e8e7e241b1f",
    "scrolled": true
   },
   "outputs": [
    {
     "data": {
      "text/plain": [
       "0      57\n",
       "1      57\n",
       "2      57\n",
       "3      57\n",
       "4      57\n",
       "       ..\n",
       "101    57\n",
       "102    57\n",
       "103    57\n",
       "104    57\n",
       "105    57\n",
       "Name: gene_sequence, Length: 106, dtype: int64"
      ]
     },
     "execution_count": 50,
     "metadata": {},
     "output_type": "execute_result"
    }
   ],
   "source": [
    "df['gene_sequence'].str.len()"
   ]
  },
  {
   "cell_type": "markdown",
   "metadata": {},
   "source": [
    "# Models using Bag of words:\n",
    "\n",
    "Using kmer, count vectorizer to fit test data on three classification models:\n",
    "1. Decision Tree\n",
    "2. Random Forest\n",
    "3. Multinomial NB\n",
    "\n"
   ]
  },
  {
   "cell_type": "markdown",
   "metadata": {
    "colab_type": "text",
    "id": "RmeTAmj_HwPP"
   },
   "source": [
    "### K-mer solution:"
   ]
  },
  {
   "cell_type": "code",
   "execution_count": 51,
   "metadata": {
    "colab": {},
    "colab_type": "code",
    "executionInfo": {
     "elapsed": 1449,
     "status": "ok",
     "timestamp": 1595638752668,
     "user": {
      "displayName": "Khushbu Desai",
      "photoUrl": "",
      "userId": "03086767916646334082"
     },
     "user_tz": 420
    },
    "id": "qauJuamXHvwV"
   },
   "outputs": [],
   "source": [
    "def get_kmer(x,size):\n",
    "  return [x[i:i+size].lower() for i in range(0,len(x)-size+1)]"
   ]
  },
  {
   "cell_type": "code",
   "execution_count": 52,
   "metadata": {
    "colab": {
     "base_uri": "https://localhost:8080/",
     "height": 204
    },
    "colab_type": "code",
    "executionInfo": {
     "elapsed": 1442,
     "status": "ok",
     "timestamp": 1595638752668,
     "user": {
      "displayName": "Khushbu Desai",
      "photoUrl": "",
      "userId": "03086767916646334082"
     },
     "user_tz": 420
    },
    "id": "7tytRFHIH8HE",
    "outputId": "7c43bc38-99b2-4c83-c066-c7e1ca2f1413"
   },
   "outputs": [
    {
     "data": {
      "text/html": [
       "<div>\n",
       "<style scoped>\n",
       "    .dataframe tbody tr th:only-of-type {\n",
       "        vertical-align: middle;\n",
       "    }\n",
       "\n",
       "    .dataframe tbody tr th {\n",
       "        vertical-align: top;\n",
       "    }\n",
       "\n",
       "    .dataframe thead th {\n",
       "        text-align: right;\n",
       "    }\n",
       "</style>\n",
       "<table border=\"1\" class=\"dataframe\">\n",
       "  <thead>\n",
       "    <tr style=\"text-align: right;\">\n",
       "      <th></th>\n",
       "      <th>class</th>\n",
       "      <th>instance_name</th>\n",
       "      <th>gene_sequence</th>\n",
       "      <th>kmer</th>\n",
       "    </tr>\n",
       "  </thead>\n",
       "  <tbody>\n",
       "    <tr>\n",
       "      <th>0</th>\n",
       "      <td>1</td>\n",
       "      <td>S10</td>\n",
       "      <td>tactagcaatacgcttgcgttcggtggttaagtatgtataatgcgc...</td>\n",
       "      <td>[tactag, actagc, ctagca, tagcaa, agcaat, gcaat...</td>\n",
       "    </tr>\n",
       "    <tr>\n",
       "      <th>1</th>\n",
       "      <td>1</td>\n",
       "      <td>AMPC</td>\n",
       "      <td>tgctatcctgacagttgtcacgctgattggtgtcgttacaatctaa...</td>\n",
       "      <td>[tgctat, gctatc, ctatcc, tatcct, atcctg, tcctg...</td>\n",
       "    </tr>\n",
       "    <tr>\n",
       "      <th>2</th>\n",
       "      <td>1</td>\n",
       "      <td>AROH</td>\n",
       "      <td>gtactagagaactagtgcattagcttatttttttgttatcatgcta...</td>\n",
       "      <td>[gtacta, tactag, actaga, ctagag, tagaga, agaga...</td>\n",
       "    </tr>\n",
       "    <tr>\n",
       "      <th>3</th>\n",
       "      <td>1</td>\n",
       "      <td>DEOP2</td>\n",
       "      <td>aattgtgatgtgtatcgaagtgtgttgcggagtagatgttagaata...</td>\n",
       "      <td>[aattgt, attgtg, ttgtga, tgtgat, gtgatg, tgatg...</td>\n",
       "    </tr>\n",
       "    <tr>\n",
       "      <th>4</th>\n",
       "      <td>1</td>\n",
       "      <td>LEU1_TRNA</td>\n",
       "      <td>tcgataattaactattgacgaaaagctgaaaaccactagaatgcgc...</td>\n",
       "      <td>[tcgata, cgataa, gataat, ataatt, taatta, aatta...</td>\n",
       "    </tr>\n",
       "  </tbody>\n",
       "</table>\n",
       "</div>"
      ],
      "text/plain": [
       "   class instance_name                                      gene_sequence  \\\n",
       "0      1           S10  tactagcaatacgcttgcgttcggtggttaagtatgtataatgcgc...   \n",
       "1      1          AMPC  tgctatcctgacagttgtcacgctgattggtgtcgttacaatctaa...   \n",
       "2      1          AROH  gtactagagaactagtgcattagcttatttttttgttatcatgcta...   \n",
       "3      1         DEOP2  aattgtgatgtgtatcgaagtgtgttgcggagtagatgttagaata...   \n",
       "4      1     LEU1_TRNA  tcgataattaactattgacgaaaagctgaaaaccactagaatgcgc...   \n",
       "\n",
       "                                                kmer  \n",
       "0  [tactag, actagc, ctagca, tagcaa, agcaat, gcaat...  \n",
       "1  [tgctat, gctatc, ctatcc, tatcct, atcctg, tcctg...  \n",
       "2  [gtacta, tactag, actaga, ctagag, tagaga, agaga...  \n",
       "3  [aattgt, attgtg, ttgtga, tgtgat, gtgatg, tgatg...  \n",
       "4  [tcgata, cgataa, gataat, ataatt, taatta, aatta...  "
      ]
     },
     "execution_count": 52,
     "metadata": {},
     "output_type": "execute_result"
    }
   ],
   "source": [
    "df['kmer'] = df['gene_sequence'].apply(lambda x:get_kmer(x,6)) # 6 = size of kmer\n",
    "df.head()"
   ]
  },
  {
   "cell_type": "code",
   "execution_count": 53,
   "metadata": {
    "colab": {
     "base_uri": "https://localhost:8080/",
     "height": 204
    },
    "colab_type": "code",
    "executionInfo": {
     "elapsed": 1433,
     "status": "ok",
     "timestamp": 1595638752669,
     "user": {
      "displayName": "Khushbu Desai",
      "photoUrl": "",
      "userId": "03086767916646334082"
     },
     "user_tz": 420
    },
    "id": "8Kj7wjKeIPhs",
    "outputId": "73e06db3-f696-4984-b4e1-d7ede3f3f60e"
   },
   "outputs": [
    {
     "data": {
      "text/html": [
       "<div>\n",
       "<style scoped>\n",
       "    .dataframe tbody tr th:only-of-type {\n",
       "        vertical-align: middle;\n",
       "    }\n",
       "\n",
       "    .dataframe tbody tr th {\n",
       "        vertical-align: top;\n",
       "    }\n",
       "\n",
       "    .dataframe thead th {\n",
       "        text-align: right;\n",
       "    }\n",
       "</style>\n",
       "<table border=\"1\" class=\"dataframe\">\n",
       "  <thead>\n",
       "    <tr style=\"text-align: right;\">\n",
       "      <th></th>\n",
       "      <th>class</th>\n",
       "      <th>instance_name</th>\n",
       "      <th>gene_sequence</th>\n",
       "      <th>kmer</th>\n",
       "      <th>kmer_words</th>\n",
       "    </tr>\n",
       "  </thead>\n",
       "  <tbody>\n",
       "    <tr>\n",
       "      <th>0</th>\n",
       "      <td>1</td>\n",
       "      <td>S10</td>\n",
       "      <td>tactagcaatacgcttgcgttcggtggttaagtatgtataatgcgc...</td>\n",
       "      <td>[tactag, actagc, ctagca, tagcaa, agcaat, gcaat...</td>\n",
       "      <td>tactag actagc ctagca tagcaa agcaat gcaata caat...</td>\n",
       "    </tr>\n",
       "    <tr>\n",
       "      <th>1</th>\n",
       "      <td>1</td>\n",
       "      <td>AMPC</td>\n",
       "      <td>tgctatcctgacagttgtcacgctgattggtgtcgttacaatctaa...</td>\n",
       "      <td>[tgctat, gctatc, ctatcc, tatcct, atcctg, tcctg...</td>\n",
       "      <td>tgctat gctatc ctatcc tatcct atcctg tcctga cctg...</td>\n",
       "    </tr>\n",
       "    <tr>\n",
       "      <th>2</th>\n",
       "      <td>1</td>\n",
       "      <td>AROH</td>\n",
       "      <td>gtactagagaactagtgcattagcttatttttttgttatcatgcta...</td>\n",
       "      <td>[gtacta, tactag, actaga, ctagag, tagaga, agaga...</td>\n",
       "      <td>gtacta tactag actaga ctagag tagaga agagaa gaga...</td>\n",
       "    </tr>\n",
       "    <tr>\n",
       "      <th>3</th>\n",
       "      <td>1</td>\n",
       "      <td>DEOP2</td>\n",
       "      <td>aattgtgatgtgtatcgaagtgtgttgcggagtagatgttagaata...</td>\n",
       "      <td>[aattgt, attgtg, ttgtga, tgtgat, gtgatg, tgatg...</td>\n",
       "      <td>aattgt attgtg ttgtga tgtgat gtgatg tgatgt gatg...</td>\n",
       "    </tr>\n",
       "    <tr>\n",
       "      <th>4</th>\n",
       "      <td>1</td>\n",
       "      <td>LEU1_TRNA</td>\n",
       "      <td>tcgataattaactattgacgaaaagctgaaaaccactagaatgcgc...</td>\n",
       "      <td>[tcgata, cgataa, gataat, ataatt, taatta, aatta...</td>\n",
       "      <td>tcgata cgataa gataat ataatt taatta aattaa atta...</td>\n",
       "    </tr>\n",
       "  </tbody>\n",
       "</table>\n",
       "</div>"
      ],
      "text/plain": [
       "   class instance_name                                      gene_sequence  \\\n",
       "0      1           S10  tactagcaatacgcttgcgttcggtggttaagtatgtataatgcgc...   \n",
       "1      1          AMPC  tgctatcctgacagttgtcacgctgattggtgtcgttacaatctaa...   \n",
       "2      1          AROH  gtactagagaactagtgcattagcttatttttttgttatcatgcta...   \n",
       "3      1         DEOP2  aattgtgatgtgtatcgaagtgtgttgcggagtagatgttagaata...   \n",
       "4      1     LEU1_TRNA  tcgataattaactattgacgaaaagctgaaaaccactagaatgcgc...   \n",
       "\n",
       "                                                kmer  \\\n",
       "0  [tactag, actagc, ctagca, tagcaa, agcaat, gcaat...   \n",
       "1  [tgctat, gctatc, ctatcc, tatcct, atcctg, tcctg...   \n",
       "2  [gtacta, tactag, actaga, ctagag, tagaga, agaga...   \n",
       "3  [aattgt, attgtg, ttgtga, tgtgat, gtgatg, tgatg...   \n",
       "4  [tcgata, cgataa, gataat, ataatt, taatta, aatta...   \n",
       "\n",
       "                                          kmer_words  \n",
       "0  tactag actagc ctagca tagcaa agcaat gcaata caat...  \n",
       "1  tgctat gctatc ctatcc tatcct atcctg tcctga cctg...  \n",
       "2  gtacta tactag actaga ctagag tagaga agagaa gaga...  \n",
       "3  aattgt attgtg ttgtga tgtgat gtgatg tgatgt gatg...  \n",
       "4  tcgata cgataa gataat ataatt taatta aattaa atta...  "
      ]
     },
     "execution_count": 53,
     "metadata": {},
     "output_type": "execute_result"
    }
   ],
   "source": [
    "df['kmer_words'] = df['kmer'].apply(lambda x:' '.join(x))\n",
    "df.head()"
   ]
  },
  {
   "cell_type": "markdown",
   "metadata": {
    "colab_type": "text",
    "id": "QZgydIFuC_av"
   },
   "source": [
    "##### test-train split"
   ]
  },
  {
   "cell_type": "code",
   "execution_count": 54,
   "metadata": {
    "colab": {
     "base_uri": "https://localhost:8080/",
     "height": 119
    },
    "colab_type": "code",
    "executionInfo": {
     "elapsed": 1424,
     "status": "ok",
     "timestamp": 1595638752669,
     "user": {
      "displayName": "Khushbu Desai",
      "photoUrl": "",
      "userId": "03086767916646334082"
     },
     "user_tz": 420
    },
    "id": "OW8ua-hXC_av",
    "outputId": "24f7c85c-496a-423b-e51e-addcd4626af2"
   },
   "outputs": [
    {
     "data": {
      "text/plain": [
       "0    tactag actagc ctagca tagcaa agcaat gcaata caat...\n",
       "1    tgctat gctatc ctatcc tatcct atcctg tcctga cctg...\n",
       "2    gtacta tactag actaga ctagag tagaga agagaa gaga...\n",
       "3    aattgt attgtg ttgtga tgtgat gtgatg tgatgt gatg...\n",
       "4    tcgata cgataa gataat ataatt taatta aattaa atta...\n",
       "Name: kmer_words, dtype: object"
      ]
     },
     "execution_count": 54,
     "metadata": {},
     "output_type": "execute_result"
    }
   ],
   "source": [
    "X = df['kmer_words']\n",
    "X.head()"
   ]
  },
  {
   "cell_type": "code",
   "execution_count": 55,
   "metadata": {
    "colab": {
     "base_uri": "https://localhost:8080/",
     "height": 68
    },
    "colab_type": "code",
    "executionInfo": {
     "elapsed": 1416,
     "status": "ok",
     "timestamp": 1595638752669,
     "user": {
      "displayName": "Khushbu Desai",
      "photoUrl": "",
      "userId": "03086767916646334082"
     },
     "user_tz": 420
    },
    "id": "rjmOB-ILC_ax",
    "outputId": "7e0c59e9-079a-4a93-a73f-2833b8a4c992"
   },
   "outputs": [
    {
     "data": {
      "text/plain": [
       "1    53\n",
       "0    53\n",
       "Name: class, dtype: int64"
      ]
     },
     "execution_count": 55,
     "metadata": {},
     "output_type": "execute_result"
    }
   ],
   "source": [
    "y = df['class']\n",
    "y.value_counts()"
   ]
  },
  {
   "cell_type": "code",
   "execution_count": 56,
   "metadata": {
    "colab": {
     "base_uri": "https://localhost:8080/",
     "height": 85
    },
    "colab_type": "code",
    "executionInfo": {
     "elapsed": 1409,
     "status": "ok",
     "timestamp": 1595638752670,
     "user": {
      "displayName": "Khushbu Desai",
      "photoUrl": "",
      "userId": "03086767916646334082"
     },
     "user_tz": 420
    },
    "id": "7sc_v1dtJQlU",
    "outputId": "e66f49b5-7153-477c-c944-e40b9188401f"
   },
   "outputs": [
    {
     "data": {
      "text/plain": [
       "79"
      ]
     },
     "metadata": {},
     "output_type": "display_data"
    },
    {
     "data": {
      "text/plain": [
       "79"
      ]
     },
     "metadata": {},
     "output_type": "display_data"
    },
    {
     "data": {
      "text/plain": [
       "27"
      ]
     },
     "metadata": {},
     "output_type": "display_data"
    },
    {
     "data": {
      "text/plain": [
       "27"
      ]
     },
     "metadata": {},
     "output_type": "display_data"
    }
   ],
   "source": [
    "X_train, X_test, y_train, y_test = train_test_split(X, y, test_size = 0.25,random_state=42)\n",
    "display(len(X_train), len(y_train))\n",
    "display(len(X_test), len(y_test))"
   ]
  },
  {
   "cell_type": "code",
   "execution_count": 57,
   "metadata": {
    "colab": {},
    "colab_type": "code",
    "executionInfo": {
     "elapsed": 1402,
     "status": "ok",
     "timestamp": 1595638752670,
     "user": {
      "displayName": "Khushbu Desai",
      "photoUrl": "",
      "userId": "03086767916646334082"
     },
     "user_tz": 420
    },
    "id": "WjwM8geEKDwk"
   },
   "outputs": [],
   "source": [
    "cv = CountVectorizer(ngram_range=(4,4))"
   ]
  },
  {
   "cell_type": "code",
   "execution_count": 58,
   "metadata": {
    "colab": {},
    "colab_type": "code",
    "executionInfo": {
     "elapsed": 1397,
     "status": "ok",
     "timestamp": 1595638752671,
     "user": {
      "displayName": "Khushbu Desai",
      "photoUrl": "",
      "userId": "03086767916646334082"
     },
     "user_tz": 420
    },
    "id": "m7W19miMKH1_"
   },
   "outputs": [],
   "source": [
    "X_train_bow = cv.fit_transform(X_train)\n",
    "X_test_bow = cv.transform(X_test)"
   ]
  },
  {
   "cell_type": "markdown",
   "metadata": {},
   "source": [
    "### Decision tree classifier"
   ]
  },
  {
   "cell_type": "code",
   "execution_count": 59,
   "metadata": {
    "colab": {
     "base_uri": "https://localhost:8080/",
     "height": 34
    },
    "colab_type": "code",
    "executionInfo": {
     "elapsed": 1390,
     "status": "ok",
     "timestamp": 1595638752671,
     "user": {
      "displayName": "Khushbu Desai",
      "photoUrl": "",
      "userId": "03086767916646334082"
     },
     "user_tz": 420
    },
    "id": "GnNUjhkErZqh",
    "outputId": "0f865c75-63f8-4351-af43-ab09888c4abe"
   },
   "outputs": [
    {
     "name": "stdout",
     "output_type": "stream",
     "text": [
      "Accuracy 0.8888888888888888\n"
     ]
    }
   ],
   "source": [
    "dtree = DecisionTreeClassifier()\n",
    "dtree.fit(X_train_bow, y_train)\n",
    "dtree_pred = dtree.predict(X_test_bow)\n",
    "print(\"Accuracy\", accuracy_score(dtree_pred, y_test))"
   ]
  },
  {
   "cell_type": "code",
   "execution_count": 60,
   "metadata": {
    "colab": {
     "base_uri": "https://localhost:8080/",
     "height": 204
    },
    "colab_type": "code",
    "executionInfo": {
     "elapsed": 1383,
     "status": "ok",
     "timestamp": 1595638752672,
     "user": {
      "displayName": "Khushbu Desai",
      "photoUrl": "",
      "userId": "03086767916646334082"
     },
     "user_tz": 420
    },
    "id": "NXUZVpEXKsws",
    "outputId": "cde67e68-d94a-488b-87aa-c122c6b276c4"
   },
   "outputs": [
    {
     "name": "stdout",
     "output_type": "stream",
     "text": [
      "[[ 9  3]\n",
      " [ 0 15]]\n",
      "              precision    recall  f1-score   support\n",
      "\n",
      "           0       1.00      0.75      0.86        12\n",
      "           1       0.83      1.00      0.91        15\n",
      "\n",
      "    accuracy                           0.89        27\n",
      "   macro avg       0.92      0.88      0.88        27\n",
      "weighted avg       0.91      0.89      0.89        27\n",
      "\n"
     ]
    }
   ],
   "source": [
    "cm = confusion_matrix(y_test, dtree_pred)\n",
    "print(cm)\n",
    "report = classification_report(y_test, dtree_pred)\n",
    "print (report)"
   ]
  },
  {
   "cell_type": "markdown",
   "metadata": {},
   "source": [
    "### Random forest classifier"
   ]
  },
  {
   "cell_type": "code",
   "execution_count": 61,
   "metadata": {
    "colab": {
     "base_uri": "https://localhost:8080/",
     "height": 34
    },
    "colab_type": "code",
    "executionInfo": {
     "elapsed": 1717,
     "status": "ok",
     "timestamp": 1595638753014,
     "user": {
      "displayName": "Khushbu Desai",
      "photoUrl": "",
      "userId": "03086767916646334082"
     },
     "user_tz": 420
    },
    "id": "kXI2erbqrzr9",
    "outputId": "09f5fe6d-c97d-42ef-f028-2521be7ef916"
   },
   "outputs": [
    {
     "name": "stdout",
     "output_type": "stream",
     "text": [
      "Accuracy 1.0\n"
     ]
    }
   ],
   "source": [
    "rf = RandomForestClassifier()\n",
    "rf.fit(X_train_bow, y_train)\n",
    "rf_pred = rf.predict(X_test_bow)\n",
    "print(\"Accuracy\", accuracy_score(rf_pred, y_test))"
   ]
  },
  {
   "cell_type": "code",
   "execution_count": 62,
   "metadata": {
    "colab": {
     "base_uri": "https://localhost:8080/",
     "height": 204
    },
    "colab_type": "code",
    "executionInfo": {
     "elapsed": 1710,
     "status": "ok",
     "timestamp": 1595638753015,
     "user": {
      "displayName": "Khushbu Desai",
      "photoUrl": "",
      "userId": "03086767916646334082"
     },
     "user_tz": 420
    },
    "id": "UhCmrKgZsjvL",
    "outputId": "06d64d6e-b744-45b3-8361-6c51c98efadc"
   },
   "outputs": [
    {
     "name": "stdout",
     "output_type": "stream",
     "text": [
      "[[12  0]\n",
      " [ 0 15]]\n",
      "              precision    recall  f1-score   support\n",
      "\n",
      "           0       1.00      1.00      1.00        12\n",
      "           1       1.00      1.00      1.00        15\n",
      "\n",
      "    accuracy                           1.00        27\n",
      "   macro avg       1.00      1.00      1.00        27\n",
      "weighted avg       1.00      1.00      1.00        27\n",
      "\n"
     ]
    }
   ],
   "source": [
    "cm = confusion_matrix(y_test, rf_pred)\n",
    "print(cm)\n",
    "report = classification_report(y_test, rf_pred)\n",
    "print (report)"
   ]
  },
  {
   "cell_type": "code",
   "execution_count": 63,
   "metadata": {
    "colab": {
     "base_uri": "https://localhost:8080/",
     "height": 286
    },
    "colab_type": "code",
    "executionInfo": {
     "elapsed": 2022,
     "status": "ok",
     "timestamp": 1595638753336,
     "user": {
      "displayName": "Khushbu Desai",
      "photoUrl": "",
      "userId": "03086767916646334082"
     },
     "user_tz": 420
    },
    "id": "HBOSF5oUtfSc",
    "outputId": "7c5af2f5-ab0a-4221-d9cc-c595cd534fd6"
   },
   "outputs": [
    {
     "data": {
      "text/plain": [
       "<matplotlib.axes._subplots.AxesSubplot at 0x7f56930bc810>"
      ]
     },
     "execution_count": 63,
     "metadata": {},
     "output_type": "execute_result"
    },
    {
     "data": {
      "image/png": "[encoded data removed]",
      "text/plain": [
       "<Figure size 432x288 with 2 Axes>"
      ]
     },
     "metadata": {
      "needs_background": "light"
     },
     "output_type": "display_data"
    }
   ],
   "source": [
    "sns.heatmap(cm, annot=True, fmt='g')"
   ]
  },
  {
   "cell_type": "markdown",
   "metadata": {},
   "source": [
    "### Multinomial Naive Bayes classifier"
   ]
  },
  {
   "cell_type": "code",
   "execution_count": 64,
   "metadata": {
    "colab": {
     "base_uri": "https://localhost:8080/",
     "height": 34
    },
    "colab_type": "code",
    "executionInfo": {
     "elapsed": 2014,
     "status": "ok",
     "timestamp": 1595638753336,
     "user": {
      "displayName": "Khushbu Desai",
      "photoUrl": "",
      "userId": "03086767916646334082"
     },
     "user_tz": 420
    },
    "id": "bNG-c_ZgtCKP",
    "outputId": "5ff61ba1-311e-47b1-e8e3-6ffed3eab80f"
   },
   "outputs": [
    {
     "name": "stdout",
     "output_type": "stream",
     "text": [
      "Accuracy 0.7777777777777778\n"
     ]
    }
   ],
   "source": [
    "nb = MultinomialNB()\n",
    "nb.fit(X_train_bow, y_train)\n",
    "nb_pred = nb.predict(X_test_bow)\n",
    "print(\"Accuracy\", accuracy_score(nb_pred, y_test))"
   ]
  },
  {
   "cell_type": "code",
   "execution_count": 65,
   "metadata": {
    "colab": {
     "base_uri": "https://localhost:8080/",
     "height": 204
    },
    "colab_type": "code",
    "executionInfo": {
     "elapsed": 2007,
     "status": "ok",
     "timestamp": 1595638753337,
     "user": {
      "displayName": "Khushbu Desai",
      "photoUrl": "",
      "userId": "03086767916646334082"
     },
     "user_tz": 420
    },
    "id": "Yy2oeniKtbqs",
    "outputId": "aca60423-24b7-4adb-db72-99e5bf13d2cc"
   },
   "outputs": [
    {
     "name": "stdout",
     "output_type": "stream",
     "text": [
      "[[12  0]\n",
      " [ 6  9]]\n",
      "              precision    recall  f1-score   support\n",
      "\n",
      "           0       0.67      1.00      0.80        12\n",
      "           1       1.00      0.60      0.75        15\n",
      "\n",
      "    accuracy                           0.78        27\n",
      "   macro avg       0.83      0.80      0.77        27\n",
      "weighted avg       0.85      0.78      0.77        27\n",
      "\n"
     ]
    }
   ],
   "source": [
    "cm = confusion_matrix(y_test, nb_pred)\n",
    "print(cm)\n",
    "report = classification_report(y_test, nb_pred)\n",
    "print (report)"
   ]
  },
  {
   "cell_type": "markdown",
   "metadata": {
    "colab_type": "text",
    "id": "_T96GXg2MPdD"
   },
   "source": [
    "# Models using ordinal encoding:\n",
    "Using ordinal encoding of gene sequence, we fit test data on three classification models:\n",
    "\n",
    "1. Decision Tree\n",
    "2. Random Forest\n",
    "3. Multinomial NB"
   ]
  },
  {
   "cell_type": "code",
   "execution_count": 66,
   "metadata": {
    "colab": {
     "base_uri": "https://localhost:8080/",
     "height": 68
    },
    "colab_type": "code",
    "executionInfo": {
     "elapsed": 1999,
     "status": "ok",
     "timestamp": 1595638753337,
     "user": {
      "displayName": "Khushbu Desai",
      "photoUrl": "",
      "userId": "03086767916646334082"
     },
     "user_tz": 420
    },
    "id": "olq4x1M_Y9t1",
    "outputId": "4e539114-6534-4690-f567-5a276295ea15"
   },
   "outputs": [
    {
     "data": {
      "text/plain": [
       "Index(['class', 'instance_name', 'gene_sequence', 'kmer', 'kmer_words'], dtype='object')"
      ]
     },
     "execution_count": 66,
     "metadata": {},
     "output_type": "execute_result"
    }
   ],
   "source": [
    "df.columns"
   ]
  },
  {
   "cell_type": "code",
   "execution_count": 67,
   "metadata": {
    "colab": {
     "base_uri": "https://localhost:8080/",
     "height": 221
    },
    "colab_type": "code",
    "executionInfo": {
     "elapsed": 1991,
     "status": "ok",
     "timestamp": 1595638753338,
     "user": {
      "displayName": "Khushbu Desai",
      "photoUrl": "",
      "userId": "03086767916646334082"
     },
     "user_tz": 420
    },
    "id": "I0DIT7gMZAb6",
    "outputId": "c739e580-2a7a-4714-f162-cbc49daf0abc"
   },
   "outputs": [
    {
     "data": {
      "text/html": [
       "<div>\n",
       "<style scoped>\n",
       "    .dataframe tbody tr th:only-of-type {\n",
       "        vertical-align: middle;\n",
       "    }\n",
       "\n",
       "    .dataframe tbody tr th {\n",
       "        vertical-align: top;\n",
       "    }\n",
       "\n",
       "    .dataframe thead th {\n",
       "        text-align: right;\n",
       "    }\n",
       "</style>\n",
       "<table border=\"1\" class=\"dataframe\">\n",
       "  <thead>\n",
       "    <tr style=\"text-align: right;\">\n",
       "      <th></th>\n",
       "      <th>class</th>\n",
       "      <th>instance_name</th>\n",
       "      <th>gene_sequence</th>\n",
       "      <th>kmer</th>\n",
       "      <th>kmer_words</th>\n",
       "      <th>kmer_list</th>\n",
       "    </tr>\n",
       "  </thead>\n",
       "  <tbody>\n",
       "    <tr>\n",
       "      <th>0</th>\n",
       "      <td>1</td>\n",
       "      <td>S10</td>\n",
       "      <td>tactagcaatacgcttgcgttcggtggttaagtatgtataatgcgc...</td>\n",
       "      <td>[tactag, actagc, ctagca, tagcaa, agcaat, gcaat...</td>\n",
       "      <td>tactag actagc ctagca tagcaa agcaat gcaata caat...</td>\n",
       "      <td>[t, a, c, t, a, g, c, a, a, t, a, c, g, c, t, ...</td>\n",
       "    </tr>\n",
       "    <tr>\n",
       "      <th>1</th>\n",
       "      <td>1</td>\n",
       "      <td>AMPC</td>\n",
       "      <td>tgctatcctgacagttgtcacgctgattggtgtcgttacaatctaa...</td>\n",
       "      <td>[tgctat, gctatc, ctatcc, tatcct, atcctg, tcctg...</td>\n",
       "      <td>tgctat gctatc ctatcc tatcct atcctg tcctga cctg...</td>\n",
       "      <td>[t, g, c, t, a, t, c, c, t, g, a, c, a, g, t, ...</td>\n",
       "    </tr>\n",
       "    <tr>\n",
       "      <th>2</th>\n",
       "      <td>1</td>\n",
       "      <td>AROH</td>\n",
       "      <td>gtactagagaactagtgcattagcttatttttttgttatcatgcta...</td>\n",
       "      <td>[gtacta, tactag, actaga, ctagag, tagaga, agaga...</td>\n",
       "      <td>gtacta tactag actaga ctagag tagaga agagaa gaga...</td>\n",
       "      <td>[g, t, a, c, t, a, g, a, g, a, a, c, t, a, g, ...</td>\n",
       "    </tr>\n",
       "    <tr>\n",
       "      <th>3</th>\n",
       "      <td>1</td>\n",
       "      <td>DEOP2</td>\n",
       "      <td>aattgtgatgtgtatcgaagtgtgttgcggagtagatgttagaata...</td>\n",
       "      <td>[aattgt, attgtg, ttgtga, tgtgat, gtgatg, tgatg...</td>\n",
       "      <td>aattgt attgtg ttgtga tgtgat gtgatg tgatgt gatg...</td>\n",
       "      <td>[a, a, t, t, g, t, g, a, t, g, t, g, t, a, t, ...</td>\n",
       "    </tr>\n",
       "    <tr>\n",
       "      <th>4</th>\n",
       "      <td>1</td>\n",
       "      <td>LEU1_TRNA</td>\n",
       "      <td>tcgataattaactattgacgaaaagctgaaaaccactagaatgcgc...</td>\n",
       "      <td>[tcgata, cgataa, gataat, ataatt, taatta, aatta...</td>\n",
       "      <td>tcgata cgataa gataat ataatt taatta aattaa atta...</td>\n",
       "      <td>[t, c, g, a, t, a, a, t, t, a, a, c, t, a, t, ...</td>\n",
       "    </tr>\n",
       "  </tbody>\n",
       "</table>\n",
       "</div>"
      ],
      "text/plain": [
       "   class instance_name                                      gene_sequence  \\\n",
       "0      1           S10  tactagcaatacgcttgcgttcggtggttaagtatgtataatgcgc...   \n",
       "1      1          AMPC  tgctatcctgacagttgtcacgctgattggtgtcgttacaatctaa...   \n",
       "2      1          AROH  gtactagagaactagtgcattagcttatttttttgttatcatgcta...   \n",
       "3      1         DEOP2  aattgtgatgtgtatcgaagtgtgttgcggagtagatgttagaata...   \n",
       "4      1     LEU1_TRNA  tcgataattaactattgacgaaaagctgaaaaccactagaatgcgc...   \n",
       "\n",
       "                                                kmer  \\\n",
       "0  [tactag, actagc, ctagca, tagcaa, agcaat, gcaat...   \n",
       "1  [tgctat, gctatc, ctatcc, tatcct, atcctg, tcctg...   \n",
       "2  [gtacta, tactag, actaga, ctagag, tagaga, agaga...   \n",
       "3  [aattgt, attgtg, ttgtga, tgtgat, gtgatg, tgatg...   \n",
       "4  [tcgata, cgataa, gataat, ataatt, taatta, aatta...   \n",
       "\n",
       "                                          kmer_words  \\\n",
       "0  tactag actagc ctagca tagcaa agcaat gcaata caat...   \n",
       "1  tgctat gctatc ctatcc tatcct atcctg tcctga cctg...   \n",
       "2  gtacta tactag actaga ctagag tagaga agagaa gaga...   \n",
       "3  aattgt attgtg ttgtga tgtgat gtgatg tgatgt gatg...   \n",
       "4  tcgata cgataa gataat ataatt taatta aattaa atta...   \n",
       "\n",
       "                                           kmer_list  \n",
       "0  [t, a, c, t, a, g, c, a, a, t, a, c, g, c, t, ...  \n",
       "1  [t, g, c, t, a, t, c, c, t, g, a, c, a, g, t, ...  \n",
       "2  [g, t, a, c, t, a, g, a, g, a, a, c, t, a, g, ...  \n",
       "3  [a, a, t, t, g, t, g, a, t, g, t, g, t, a, t, ...  \n",
       "4  [t, c, g, a, t, a, a, t, t, a, a, c, t, a, t, ...  "
      ]
     },
     "execution_count": 67,
     "metadata": {},
     "output_type": "execute_result"
    }
   ],
   "source": [
    "# convert dna string to array\n",
    "df['kmer_list'] = df['gene_sequence'].apply(lambda x:get_kmer(x,1))\n",
    "df.head()"
   ]
  },
  {
   "cell_type": "code",
   "execution_count": 68,
   "metadata": {
    "colab": {
     "base_uri": "https://localhost:8080/",
     "height": 204
    },
    "colab_type": "code",
    "executionInfo": {
     "elapsed": 1983,
     "status": "ok",
     "timestamp": 1595638753338,
     "user": {
      "displayName": "Khushbu Desai",
      "photoUrl": "",
      "userId": "03086767916646334082"
     },
     "user_tz": 420
    },
    "id": "3qTlfdVFlyYn",
    "outputId": "ce863ca7-bad6-49f6-f4a3-96c2b67ea58e"
   },
   "outputs": [
    {
     "data": {
      "text/html": [
       "<div>\n",
       "<style scoped>\n",
       "    .dataframe tbody tr th:only-of-type {\n",
       "        vertical-align: middle;\n",
       "    }\n",
       "\n",
       "    .dataframe tbody tr th {\n",
       "        vertical-align: top;\n",
       "    }\n",
       "\n",
       "    .dataframe thead th {\n",
       "        text-align: right;\n",
       "    }\n",
       "</style>\n",
       "<table border=\"1\" class=\"dataframe\">\n",
       "  <thead>\n",
       "    <tr style=\"text-align: right;\">\n",
       "      <th></th>\n",
       "      <th>class</th>\n",
       "      <th>kmer_list</th>\n",
       "    </tr>\n",
       "  </thead>\n",
       "  <tbody>\n",
       "    <tr>\n",
       "      <th>0</th>\n",
       "      <td>1</td>\n",
       "      <td>[t, a, c, t, a, g, c, a, a, t, a, c, g, c, t, ...</td>\n",
       "    </tr>\n",
       "    <tr>\n",
       "      <th>1</th>\n",
       "      <td>1</td>\n",
       "      <td>[t, g, c, t, a, t, c, c, t, g, a, c, a, g, t, ...</td>\n",
       "    </tr>\n",
       "    <tr>\n",
       "      <th>2</th>\n",
       "      <td>1</td>\n",
       "      <td>[g, t, a, c, t, a, g, a, g, a, a, c, t, a, g, ...</td>\n",
       "    </tr>\n",
       "    <tr>\n",
       "      <th>3</th>\n",
       "      <td>1</td>\n",
       "      <td>[a, a, t, t, g, t, g, a, t, g, t, g, t, a, t, ...</td>\n",
       "    </tr>\n",
       "    <tr>\n",
       "      <th>4</th>\n",
       "      <td>1</td>\n",
       "      <td>[t, c, g, a, t, a, a, t, t, a, a, c, t, a, t, ...</td>\n",
       "    </tr>\n",
       "  </tbody>\n",
       "</table>\n",
       "</div>"
      ],
      "text/plain": [
       "   class                                          kmer_list\n",
       "0      1  [t, a, c, t, a, g, c, a, a, t, a, c, g, c, t, ...\n",
       "1      1  [t, g, c, t, a, t, c, c, t, g, a, c, a, g, t, ...\n",
       "2      1  [g, t, a, c, t, a, g, a, g, a, a, c, t, a, g, ...\n",
       "3      1  [a, a, t, t, g, t, g, a, t, g, t, g, t, a, t, ...\n",
       "4      1  [t, c, g, a, t, a, a, t, t, a, a, c, t, a, t, ..."
      ]
     },
     "execution_count": 68,
     "metadata": {},
     "output_type": "execute_result"
    }
   ],
   "source": [
    "df2 = df.loc[:, ['class','kmer_list']]\n",
    "df2.head()"
   ]
  },
  {
   "cell_type": "markdown",
   "metadata": {
    "colab_type": "text",
    "id": "a04ElSMsXZcU"
   },
   "source": [
    "###### train-test split"
   ]
  },
  {
   "cell_type": "code",
   "execution_count": 69,
   "metadata": {
    "colab": {},
    "colab_type": "code",
    "executionInfo": {
     "elapsed": 1977,
     "status": "ok",
     "timestamp": 1595638753339,
     "user": {
      "displayName": "Khushbu Desai",
      "photoUrl": "",
      "userId": "03086767916646334082"
     },
     "user_tz": 420
    },
    "id": "TxjZ8GLXXYan"
   },
   "outputs": [],
   "source": [
    "X = []\n",
    "length = 57\n",
    "for i, row in df2.iterrows():\n",
    "  X.append(row['kmer_list'][0:length])"
   ]
  },
  {
   "cell_type": "code",
   "execution_count": 70,
   "metadata": {
    "colab": {
     "base_uri": "https://localhost:8080/",
     "height": 224
    },
    "colab_type": "code",
    "executionInfo": {
     "elapsed": 2153,
     "status": "ok",
     "timestamp": 1595638753522,
     "user": {
      "displayName": "Khushbu Desai",
      "photoUrl": "",
      "userId": "03086767916646334082"
     },
     "user_tz": 420
    },
    "id": "VVnTiT7imgG9",
    "outputId": "36df9e80-6a7c-4e4f-914b-b3cf6e65f8b9"
   },
   "outputs": [
    {
     "data": {
      "text/html": [
       "<div>\n",
       "<style scoped>\n",
       "    .dataframe tbody tr th:only-of-type {\n",
       "        vertical-align: middle;\n",
       "    }\n",
       "\n",
       "    .dataframe tbody tr th {\n",
       "        vertical-align: top;\n",
       "    }\n",
       "\n",
       "    .dataframe thead th {\n",
       "        text-align: right;\n",
       "    }\n",
       "</style>\n",
       "<table border=\"1\" class=\"dataframe\">\n",
       "  <thead>\n",
       "    <tr style=\"text-align: right;\">\n",
       "      <th></th>\n",
       "      <th>0</th>\n",
       "      <th>1</th>\n",
       "      <th>2</th>\n",
       "      <th>3</th>\n",
       "      <th>4</th>\n",
       "      <th>5</th>\n",
       "      <th>6</th>\n",
       "      <th>7</th>\n",
       "      <th>8</th>\n",
       "      <th>9</th>\n",
       "      <th>...</th>\n",
       "      <th>48</th>\n",
       "      <th>49</th>\n",
       "      <th>50</th>\n",
       "      <th>51</th>\n",
       "      <th>52</th>\n",
       "      <th>53</th>\n",
       "      <th>54</th>\n",
       "      <th>55</th>\n",
       "      <th>56</th>\n",
       "      <th>class</th>\n",
       "    </tr>\n",
       "  </thead>\n",
       "  <tbody>\n",
       "    <tr>\n",
       "      <th>0</th>\n",
       "      <td>t</td>\n",
       "      <td>a</td>\n",
       "      <td>c</td>\n",
       "      <td>t</td>\n",
       "      <td>a</td>\n",
       "      <td>g</td>\n",
       "      <td>c</td>\n",
       "      <td>a</td>\n",
       "      <td>a</td>\n",
       "      <td>t</td>\n",
       "      <td>...</td>\n",
       "      <td>g</td>\n",
       "      <td>c</td>\n",
       "      <td>t</td>\n",
       "      <td>t</td>\n",
       "      <td>g</td>\n",
       "      <td>t</td>\n",
       "      <td>c</td>\n",
       "      <td>g</td>\n",
       "      <td>t</td>\n",
       "      <td>1</td>\n",
       "    </tr>\n",
       "    <tr>\n",
       "      <th>1</th>\n",
       "      <td>t</td>\n",
       "      <td>g</td>\n",
       "      <td>c</td>\n",
       "      <td>t</td>\n",
       "      <td>a</td>\n",
       "      <td>t</td>\n",
       "      <td>c</td>\n",
       "      <td>c</td>\n",
       "      <td>t</td>\n",
       "      <td>g</td>\n",
       "      <td>...</td>\n",
       "      <td>c</td>\n",
       "      <td>a</td>\n",
       "      <td>t</td>\n",
       "      <td>c</td>\n",
       "      <td>g</td>\n",
       "      <td>c</td>\n",
       "      <td>c</td>\n",
       "      <td>a</td>\n",
       "      <td>a</td>\n",
       "      <td>1</td>\n",
       "    </tr>\n",
       "    <tr>\n",
       "      <th>2</th>\n",
       "      <td>g</td>\n",
       "      <td>t</td>\n",
       "      <td>a</td>\n",
       "      <td>c</td>\n",
       "      <td>t</td>\n",
       "      <td>a</td>\n",
       "      <td>g</td>\n",
       "      <td>a</td>\n",
       "      <td>g</td>\n",
       "      <td>a</td>\n",
       "      <td>...</td>\n",
       "      <td>c</td>\n",
       "      <td>a</td>\n",
       "      <td>c</td>\n",
       "      <td>c</td>\n",
       "      <td>c</td>\n",
       "      <td>g</td>\n",
       "      <td>g</td>\n",
       "      <td>c</td>\n",
       "      <td>g</td>\n",
       "      <td>1</td>\n",
       "    </tr>\n",
       "    <tr>\n",
       "      <th>3</th>\n",
       "      <td>a</td>\n",
       "      <td>a</td>\n",
       "      <td>t</td>\n",
       "      <td>t</td>\n",
       "      <td>g</td>\n",
       "      <td>t</td>\n",
       "      <td>g</td>\n",
       "      <td>a</td>\n",
       "      <td>t</td>\n",
       "      <td>g</td>\n",
       "      <td>...</td>\n",
       "      <td>a</td>\n",
       "      <td>a</td>\n",
       "      <td>c</td>\n",
       "      <td>a</td>\n",
       "      <td>a</td>\n",
       "      <td>a</td>\n",
       "      <td>c</td>\n",
       "      <td>t</td>\n",
       "      <td>c</td>\n",
       "      <td>1</td>\n",
       "    </tr>\n",
       "    <tr>\n",
       "      <th>4</th>\n",
       "      <td>t</td>\n",
       "      <td>c</td>\n",
       "      <td>g</td>\n",
       "      <td>a</td>\n",
       "      <td>t</td>\n",
       "      <td>a</td>\n",
       "      <td>a</td>\n",
       "      <td>t</td>\n",
       "      <td>t</td>\n",
       "      <td>a</td>\n",
       "      <td>...</td>\n",
       "      <td>c</td>\n",
       "      <td>c</td>\n",
       "      <td>g</td>\n",
       "      <td>t</td>\n",
       "      <td>g</td>\n",
       "      <td>g</td>\n",
       "      <td>t</td>\n",
       "      <td>a</td>\n",
       "      <td>g</td>\n",
       "      <td>1</td>\n",
       "    </tr>\n",
       "  </tbody>\n",
       "</table>\n",
       "<p>5 rows × 58 columns</p>\n",
       "</div>"
      ],
      "text/plain": [
       "   0  1  2  3  4  5  6  7  8  9  ... 48 49 50 51 52 53 54 55 56 class\n",
       "0  t  a  c  t  a  g  c  a  a  t  ...  g  c  t  t  g  t  c  g  t     1\n",
       "1  t  g  c  t  a  t  c  c  t  g  ...  c  a  t  c  g  c  c  a  a     1\n",
       "2  g  t  a  c  t  a  g  a  g  a  ...  c  a  c  c  c  g  g  c  g     1\n",
       "3  a  a  t  t  g  t  g  a  t  g  ...  a  a  c  a  a  a  c  t  c     1\n",
       "4  t  c  g  a  t  a  a  t  t  a  ...  c  c  g  t  g  g  t  a  g     1\n",
       "\n",
       "[5 rows x 58 columns]"
      ]
     },
     "execution_count": 70,
     "metadata": {},
     "output_type": "execute_result"
    }
   ],
   "source": [
    "df3 = pd.DataFrame(X)\n",
    "df3['class'] = df2.loc[:,'class']\n",
    "df3.head()"
   ]
  },
  {
   "cell_type": "code",
   "execution_count": 71,
   "metadata": {
    "colab": {},
    "colab_type": "code",
    "executionInfo": {
     "elapsed": 2147,
     "status": "ok",
     "timestamp": 1595638753523,
     "user": {
      "displayName": "Khushbu Desai",
      "photoUrl": "",
      "userId": "03086767916646334082"
     },
     "user_tz": 420
    },
    "id": "UFlnF7iaC_az"
   },
   "outputs": [],
   "source": [
    "df_X = df3.drop(['class'], axis=1)\n",
    "df_y = df3.loc[:, 'class']"
   ]
  },
  {
   "cell_type": "code",
   "execution_count": 72,
   "metadata": {
    "colab": {
     "base_uri": "https://localhost:8080/",
     "height": 119
    },
    "colab_type": "code",
    "executionInfo": {
     "elapsed": 2140,
     "status": "ok",
     "timestamp": 1595638753523,
     "user": {
      "displayName": "Khushbu Desai",
      "photoUrl": "",
      "userId": "03086767916646334082"
     },
     "user_tz": 420
    },
    "id": "29a5ppkrnWou",
    "outputId": "21a89c11-4811-46ae-c5b1-f6ca36fc5ae3"
   },
   "outputs": [
    {
     "data": {
      "text/plain": [
       "0    1\n",
       "1    1\n",
       "2    1\n",
       "3    1\n",
       "4    1\n",
       "Name: class, dtype: int64"
      ]
     },
     "execution_count": 72,
     "metadata": {},
     "output_type": "execute_result"
    }
   ],
   "source": [
    "df_y.head()"
   ]
  },
  {
   "cell_type": "code",
   "execution_count": 73,
   "metadata": {
    "colab": {
     "base_uri": "https://localhost:8080/",
     "height": 85
    },
    "colab_type": "code",
    "executionInfo": {
     "elapsed": 2133,
     "status": "ok",
     "timestamp": 1595638753524,
     "user": {
      "displayName": "Khushbu Desai",
      "photoUrl": "",
      "userId": "03086767916646334082"
     },
     "user_tz": 420
    },
    "id": "84xqys7PXYat",
    "outputId": "7bd953f8-28a7-4448-a2b2-09cfada2fc60"
   },
   "outputs": [
    {
     "data": {
      "text/plain": [
       "79"
      ]
     },
     "metadata": {},
     "output_type": "display_data"
    },
    {
     "data": {
      "text/plain": [
       "79"
      ]
     },
     "metadata": {},
     "output_type": "display_data"
    },
    {
     "data": {
      "text/plain": [
       "27"
      ]
     },
     "metadata": {},
     "output_type": "display_data"
    },
    {
     "data": {
      "text/plain": [
       "27"
      ]
     },
     "metadata": {},
     "output_type": "display_data"
    }
   ],
   "source": [
    "X_train, X_test, y_train, y_test = train_test_split(df_X, df_y, test_size = 0.25,random_state=42)\n",
    "display(len(X_train), len(y_train))\n",
    "display(len(X_test), len(y_test))"
   ]
  },
  {
   "cell_type": "code",
   "execution_count": 74,
   "metadata": {
    "colab": {},
    "colab_type": "code",
    "executionInfo": {
     "elapsed": 2126,
     "status": "ok",
     "timestamp": 1595638753525,
     "user": {
      "displayName": "Khushbu Desai",
      "photoUrl": "",
      "userId": "03086767916646334082"
     },
     "user_tz": 420
    },
    "id": "_jlwABwlnnnS"
   },
   "outputs": [],
   "source": [
    "OE = OrdinalEncoder()\n",
    "OE.fit_transform(df_X)\n",
    "X_train_enc = OE.transform(X_train)"
   ]
  },
  {
   "cell_type": "code",
   "execution_count": 75,
   "metadata": {
    "colab": {
     "base_uri": "https://localhost:8080/",
     "height": 136
    },
    "colab_type": "code",
    "executionInfo": {
     "elapsed": 2120,
     "status": "ok",
     "timestamp": 1595638753525,
     "user": {
      "displayName": "Khushbu Desai",
      "photoUrl": "",
      "userId": "03086767916646334082"
     },
     "user_tz": 420
    },
    "id": "sHeEqk0Jnqre",
    "outputId": "3d4fa043-e150-4045-bcac-be2ebcb95f31"
   },
   "outputs": [
    {
     "data": {
      "text/plain": [
       "array([[2., 0., 2., ..., 0., 1., 2.],\n",
       "       [2., 1., 0., ..., 1., 1., 2.],\n",
       "       [3., 1., 2., ..., 3., 0., 2.],\n",
       "       ...,\n",
       "       [3., 1., 3., ..., 3., 1., 0.],\n",
       "       [0., 3., 3., ..., 2., 2., 3.],\n",
       "       [1., 0., 1., ..., 1., 0., 3.]])"
      ]
     },
     "execution_count": 75,
     "metadata": {},
     "output_type": "execute_result"
    }
   ],
   "source": [
    "X_test_enc = OE.transform(X_test)\n",
    "X_test_enc"
   ]
  },
  {
   "cell_type": "code",
   "execution_count": 76,
   "metadata": {
    "colab": {
     "base_uri": "https://localhost:8080/",
     "height": 102
    },
    "colab_type": "code",
    "executionInfo": {
     "elapsed": 2113,
     "status": "ok",
     "timestamp": 1595638753526,
     "user": {
      "displayName": "Khushbu Desai",
      "photoUrl": "",
      "userId": "03086767916646334082"
     },
     "user_tz": 420
    },
    "id": "Kgjc8J86n4Pa",
    "outputId": "abaed760-6ac9-4320-f499-b5a977fcfe1d"
   },
   "outputs": [
    {
     "data": {
      "text/plain": [
       "array([3., 2., 1., 3., 2., 0., 0., 0., 2., 2., 0., 2., 2., 0., 0., 1., 3.,\n",
       "       0., 3., 0., 3., 2., 1., 2., 1., 3., 1., 0., 3., 0., 1., 2., 0., 3.,\n",
       "       0., 3., 2., 0., 0., 1., 2., 3., 3., 2., 0., 2., 0., 1., 3., 2., 1.,\n",
       "       1., 2., 1., 3., 2., 0.])"
      ]
     },
     "metadata": {},
     "output_type": "display_data"
    },
    {
     "data": {
      "text/plain": [
       "(57,)"
      ]
     },
     "metadata": {},
     "output_type": "display_data"
    }
   ],
   "source": [
    "display( X_train_enc[0] )\n",
    "display( X_train_enc[0].shape )"
   ]
  },
  {
   "cell_type": "markdown",
   "metadata": {},
   "source": [
    "### Decision tree classifier"
   ]
  },
  {
   "cell_type": "code",
   "execution_count": 77,
   "metadata": {
    "colab": {
     "base_uri": "https://localhost:8080/",
     "height": 34
    },
    "colab_type": "code",
    "executionInfo": {
     "elapsed": 2253,
     "status": "ok",
     "timestamp": 1595638753674,
     "user": {
      "displayName": "Khushbu Desai",
      "photoUrl": "",
      "userId": "03086767916646334082"
     },
     "user_tz": 420
    },
    "id": "vwb97uq2b4__",
    "outputId": "db2774b7-3391-4b1f-d643-ad4dcb4edc0a"
   },
   "outputs": [
    {
     "name": "stdout",
     "output_type": "stream",
     "text": [
      "Accuracy 0.6666666666666666\n"
     ]
    }
   ],
   "source": [
    "dtree = DecisionTreeClassifier()\n",
    "dtree.fit(X_train_enc, y_train)\n",
    "dtree_pred = dtree.predict(X_test_enc)\n",
    "print(\"Accuracy\", accuracy_score(dtree_pred, y_test))"
   ]
  },
  {
   "cell_type": "code",
   "execution_count": 78,
   "metadata": {
    "colab": {
     "base_uri": "https://localhost:8080/",
     "height": 204
    },
    "colab_type": "code",
    "executionInfo": {
     "elapsed": 2246,
     "status": "ok",
     "timestamp": 1595638753675,
     "user": {
      "displayName": "Khushbu Desai",
      "photoUrl": "",
      "userId": "03086767916646334082"
     },
     "user_tz": 420
    },
    "id": "osfdAxZ6b5AE",
    "outputId": "0e4acb42-fc84-4a08-937c-cfb5ad63d203"
   },
   "outputs": [
    {
     "name": "stdout",
     "output_type": "stream",
     "text": [
      "[[ 8  4]\n",
      " [ 5 10]]\n",
      "              precision    recall  f1-score   support\n",
      "\n",
      "           0       0.62      0.67      0.64        12\n",
      "           1       0.71      0.67      0.69        15\n",
      "\n",
      "    accuracy                           0.67        27\n",
      "   macro avg       0.66      0.67      0.66        27\n",
      "weighted avg       0.67      0.67      0.67        27\n",
      "\n"
     ]
    }
   ],
   "source": [
    "cm = confusion_matrix(y_test, dtree_pred)\n",
    "print(cm)\n",
    "report = classification_report(y_test, dtree_pred)\n",
    "print (report)"
   ]
  },
  {
   "cell_type": "markdown",
   "metadata": {},
   "source": [
    "### Random Forest classifier"
   ]
  },
  {
   "cell_type": "code",
   "execution_count": 79,
   "metadata": {
    "colab": {
     "base_uri": "https://localhost:8080/",
     "height": 34
    },
    "colab_type": "code",
    "executionInfo": {
     "elapsed": 2554,
     "status": "ok",
     "timestamp": 1595638753991,
     "user": {
      "displayName": "Khushbu Desai",
      "photoUrl": "",
      "userId": "03086767916646334082"
     },
     "user_tz": 420
    },
    "id": "7pG2WjQZb5AH",
    "outputId": "ab587ec4-d07e-49b4-fc0e-1221d166bb62"
   },
   "outputs": [
    {
     "name": "stdout",
     "output_type": "stream",
     "text": [
      "Accuracy 0.8518518518518519\n"
     ]
    }
   ],
   "source": [
    "rf = RandomForestClassifier()\n",
    "rf.fit(X_train_enc, y_train)\n",
    "rf_pred = rf.predict(X_test_enc)\n",
    "print(\"Accuracy\", accuracy_score(rf_pred, y_test))"
   ]
  },
  {
   "cell_type": "code",
   "execution_count": 80,
   "metadata": {
    "colab": {
     "base_uri": "https://localhost:8080/",
     "height": 204
    },
    "colab_type": "code",
    "executionInfo": {
     "elapsed": 2545,
     "status": "ok",
     "timestamp": 1595638753991,
     "user": {
      "displayName": "Khushbu Desai",
      "photoUrl": "",
      "userId": "03086767916646334082"
     },
     "user_tz": 420
    },
    "id": "pmV5Y2vpb5AJ",
    "outputId": "cfa48f11-43b2-49da-c32d-008d568bf061"
   },
   "outputs": [
    {
     "name": "stdout",
     "output_type": "stream",
     "text": [
      "[[10  2]\n",
      " [ 2 13]]\n",
      "              precision    recall  f1-score   support\n",
      "\n",
      "           0       0.83      0.83      0.83        12\n",
      "           1       0.87      0.87      0.87        15\n",
      "\n",
      "    accuracy                           0.85        27\n",
      "   macro avg       0.85      0.85      0.85        27\n",
      "weighted avg       0.85      0.85      0.85        27\n",
      "\n"
     ]
    }
   ],
   "source": [
    "cm = confusion_matrix(y_test, rf_pred)\n",
    "print(cm)\n",
    "report = classification_report(y_test, rf_pred)\n",
    "print (report)"
   ]
  },
  {
   "cell_type": "code",
   "execution_count": 81,
   "metadata": {
    "colab": {
     "base_uri": "https://localhost:8080/",
     "height": 282
    },
    "colab_type": "code",
    "executionInfo": {
     "elapsed": 2537,
     "status": "ok",
     "timestamp": 1595638753992,
     "user": {
      "displayName": "Khushbu Desai",
      "photoUrl": "",
      "userId": "03086767916646334082"
     },
     "user_tz": 420
    },
    "id": "NO9t-joOb5AN",
    "outputId": "1beec79d-939f-4a91-d68a-e43349b74a74"
   },
   "outputs": [
    {
     "data": {
      "text/plain": [
       "<matplotlib.axes._subplots.AxesSubplot at 0x7f569307f410>"
      ]
     },
     "execution_count": 81,
     "metadata": {},
     "output_type": "execute_result"
    },
    {
     "data": {
      "image/png": "[encoded data removed]",
      "text/plain": [
       "<Figure size 432x288 with 2 Axes>"
      ]
     },
     "metadata": {
      "needs_background": "light"
     },
     "output_type": "display_data"
    }
   ],
   "source": [
    "sns.heatmap(cm, annot=True, fmt='g')"
   ]
  },
  {
   "cell_type": "markdown",
   "metadata": {},
   "source": [
    "### Multionomial Naive Bayes classifier"
   ]
  },
  {
   "cell_type": "code",
   "execution_count": 82,
   "metadata": {
    "colab": {
     "base_uri": "https://localhost:8080/",
     "height": 34
    },
    "colab_type": "code",
    "executionInfo": {
     "elapsed": 2529,
     "status": "ok",
     "timestamp": 1595638753992,
     "user": {
      "displayName": "Khushbu Desai",
      "photoUrl": "",
      "userId": "03086767916646334082"
     },
     "user_tz": 420
    },
    "id": "9-YJw-YTb5AP",
    "outputId": "3dda9a72-1943-4834-bc50-cb95ad76a6f2"
   },
   "outputs": [
    {
     "name": "stdout",
     "output_type": "stream",
     "text": [
      "Accuracy 0.7777777777777778\n"
     ]
    }
   ],
   "source": [
    "nb = MultinomialNB()\n",
    "nb.fit(X_train_enc, y_train)\n",
    "nb_pred = nb.predict(X_test_enc)\n",
    "print(\"Accuracy\", accuracy_score(nb_pred, y_test))"
   ]
  },
  {
   "cell_type": "code",
   "execution_count": 83,
   "metadata": {
    "colab": {
     "base_uri": "https://localhost:8080/",
     "height": 204
    },
    "colab_type": "code",
    "executionInfo": {
     "elapsed": 2523,
     "status": "ok",
     "timestamp": 1595638753993,
     "user": {
      "displayName": "Khushbu Desai",
      "photoUrl": "",
      "userId": "03086767916646334082"
     },
     "user_tz": 420
    },
    "id": "GmRLtva9b5AR",
    "outputId": "f927494e-49f5-4355-d9da-a12b68f42eb9"
   },
   "outputs": [
    {
     "name": "stdout",
     "output_type": "stream",
     "text": [
      "[[ 8  4]\n",
      " [ 2 13]]\n",
      "              precision    recall  f1-score   support\n",
      "\n",
      "           0       0.80      0.67      0.73        12\n",
      "           1       0.76      0.87      0.81        15\n",
      "\n",
      "    accuracy                           0.78        27\n",
      "   macro avg       0.78      0.77      0.77        27\n",
      "weighted avg       0.78      0.78      0.77        27\n",
      "\n"
     ]
    }
   ],
   "source": [
    "cm = confusion_matrix(y_test, nb_pred)\n",
    "print(cm)\n",
    "report = classification_report(y_test, nb_pred)\n",
    "print (report)"
   ]
  },
  {
   "cell_type": "markdown",
   "metadata": {
    "colab_type": "text",
    "id": "qjweZlVdLVY7"
   },
   "source": [
    "Conclusion:\n",
    "\n",
    "RandomForest method gives the best predictions on this dataset with good confusion matrix and high scores in accuracy, precision, recall and f1 score for either of the methods used: Bag of words (BoW) & Ordinal Encoding.\n",
    "\n",
    "Random forest model with BoW gives the best results among all models above."
   ]
  }
 ],
 "metadata": {
  "accelerator": "TPU",
  "colab": {
   "collapsed_sections": [],
   "name": "HW3_gene_promoters.ipynb",
   "provenance": []
  },
  "kernelspec": {
   "display_name": "Python 3",
   "language": "python",
   "name": "python3"
  },
  "language_info": {
   "codemirror_mode": {
    "name": "ipython",
    "version": 3
   },
   "file_extension": ".py",
   "mimetype": "text/x-python",
   "name": "python",
   "nbconvert_exporter": "python",
   "pygments_lexer": "ipython3",
   "version": "3.7.7"
  }
 },
 "nbformat": 4,
 "nbformat_minor": 1
}
